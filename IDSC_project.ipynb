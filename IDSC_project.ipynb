{
  "nbformat": 4,
  "nbformat_minor": 0,
  "metadata": {
    "colab": {
      "provenance": [],
      "machine_shape": "hm"
    },
    "kernelspec": {
      "name": "python3",
      "display_name": "Python 3"
    },
    "language_info": {
      "name": "python"
    },
    "accelerator": "TPU",
    "gpuClass": "standard",
    "widgets": {
      "application/vnd.jupyter.widget-state+json": {
        "67d44a17acdd4b8abb3653ae4326b8b8": {
          "model_module": "@jupyter-widgets/controls",
          "model_name": "HBoxModel",
          "model_module_version": "1.5.0",
          "state": {
            "_dom_classes": [],
            "_model_module": "@jupyter-widgets/controls",
            "_model_module_version": "1.5.0",
            "_model_name": "HBoxModel",
            "_view_count": null,
            "_view_module": "@jupyter-widgets/controls",
            "_view_module_version": "1.5.0",
            "_view_name": "HBoxView",
            "box_style": "",
            "children": [
              "IPY_MODEL_aba7dd41657043a993d9750998e65cbe",
              "IPY_MODEL_e072a3df799745bd983dbecf7d97736c",
              "IPY_MODEL_29a409bea023482683202d620baaddb3"
            ],
            "layout": "IPY_MODEL_002c7999f114464980086faf0b7b1e77"
          }
        },
        "aba7dd41657043a993d9750998e65cbe": {
          "model_module": "@jupyter-widgets/controls",
          "model_name": "HTMLModel",
          "model_module_version": "1.5.0",
          "state": {
            "_dom_classes": [],
            "_model_module": "@jupyter-widgets/controls",
            "_model_module_version": "1.5.0",
            "_model_name": "HTMLModel",
            "_view_count": null,
            "_view_module": "@jupyter-widgets/controls",
            "_view_module_version": "1.5.0",
            "_view_name": "HTMLView",
            "description": "",
            "description_tooltip": null,
            "layout": "IPY_MODEL_4ff71448fa5f4fa4bc1cefcd7d35972d",
            "placeholder": "​",
            "style": "IPY_MODEL_33113c24dae642138a67ac8f81da2948",
            "value": "Processing: 100%"
          }
        },
        "e072a3df799745bd983dbecf7d97736c": {
          "model_module": "@jupyter-widgets/controls",
          "model_name": "FloatProgressModel",
          "model_module_version": "1.5.0",
          "state": {
            "_dom_classes": [],
            "_model_module": "@jupyter-widgets/controls",
            "_model_module_version": "1.5.0",
            "_model_name": "FloatProgressModel",
            "_view_count": null,
            "_view_module": "@jupyter-widgets/controls",
            "_view_module_version": "1.5.0",
            "_view_name": "ProgressView",
            "bar_style": "",
            "description": "",
            "description_tooltip": null,
            "layout": "IPY_MODEL_c8a24728b53d4ab8b19ace2bb78a4f91",
            "max": 65,
            "min": 0,
            "orientation": "horizontal",
            "style": "IPY_MODEL_720d4ed748434b8a8cb4c5642d02ca69",
            "value": 65
          }
        },
        "29a409bea023482683202d620baaddb3": {
          "model_module": "@jupyter-widgets/controls",
          "model_name": "HTMLModel",
          "model_module_version": "1.5.0",
          "state": {
            "_dom_classes": [],
            "_model_module": "@jupyter-widgets/controls",
            "_model_module_version": "1.5.0",
            "_model_name": "HTMLModel",
            "_view_count": null,
            "_view_module": "@jupyter-widgets/controls",
            "_view_module_version": "1.5.0",
            "_view_name": "HTMLView",
            "description": "",
            "description_tooltip": null,
            "layout": "IPY_MODEL_bddb0ae5b36546b2bde2a02fad7f9e0a",
            "placeholder": "​",
            "style": "IPY_MODEL_c4b47f5acb014c87aeb3d74e22ffbc1b",
            "value": " 65/65 [00:51&lt;00:00,  1.78it/s]"
          }
        },
        "002c7999f114464980086faf0b7b1e77": {
          "model_module": "@jupyter-widgets/base",
          "model_name": "LayoutModel",
          "model_module_version": "1.2.0",
          "state": {
            "_model_module": "@jupyter-widgets/base",
            "_model_module_version": "1.2.0",
            "_model_name": "LayoutModel",
            "_view_count": null,
            "_view_module": "@jupyter-widgets/base",
            "_view_module_version": "1.2.0",
            "_view_name": "LayoutView",
            "align_content": null,
            "align_items": null,
            "align_self": null,
            "border": null,
            "bottom": null,
            "display": null,
            "flex": null,
            "flex_flow": null,
            "grid_area": null,
            "grid_auto_columns": null,
            "grid_auto_flow": null,
            "grid_auto_rows": null,
            "grid_column": null,
            "grid_gap": null,
            "grid_row": null,
            "grid_template_areas": null,
            "grid_template_columns": null,
            "grid_template_rows": null,
            "height": null,
            "justify_content": null,
            "justify_items": null,
            "left": null,
            "margin": null,
            "max_height": null,
            "max_width": null,
            "min_height": null,
            "min_width": null,
            "object_fit": null,
            "object_position": null,
            "order": null,
            "overflow": null,
            "overflow_x": null,
            "overflow_y": null,
            "padding": null,
            "right": null,
            "top": null,
            "visibility": "hidden",
            "width": null
          }
        },
        "4ff71448fa5f4fa4bc1cefcd7d35972d": {
          "model_module": "@jupyter-widgets/base",
          "model_name": "LayoutModel",
          "model_module_version": "1.2.0",
          "state": {
            "_model_module": "@jupyter-widgets/base",
            "_model_module_version": "1.2.0",
            "_model_name": "LayoutModel",
            "_view_count": null,
            "_view_module": "@jupyter-widgets/base",
            "_view_module_version": "1.2.0",
            "_view_name": "LayoutView",
            "align_content": null,
            "align_items": null,
            "align_self": null,
            "border": null,
            "bottom": null,
            "display": null,
            "flex": null,
            "flex_flow": null,
            "grid_area": null,
            "grid_auto_columns": null,
            "grid_auto_flow": null,
            "grid_auto_rows": null,
            "grid_column": null,
            "grid_gap": null,
            "grid_row": null,
            "grid_template_areas": null,
            "grid_template_columns": null,
            "grid_template_rows": null,
            "height": null,
            "justify_content": null,
            "justify_items": null,
            "left": null,
            "margin": null,
            "max_height": null,
            "max_width": null,
            "min_height": null,
            "min_width": null,
            "object_fit": null,
            "object_position": null,
            "order": null,
            "overflow": null,
            "overflow_x": null,
            "overflow_y": null,
            "padding": null,
            "right": null,
            "top": null,
            "visibility": null,
            "width": null
          }
        },
        "33113c24dae642138a67ac8f81da2948": {
          "model_module": "@jupyter-widgets/controls",
          "model_name": "DescriptionStyleModel",
          "model_module_version": "1.5.0",
          "state": {
            "_model_module": "@jupyter-widgets/controls",
            "_model_module_version": "1.5.0",
            "_model_name": "DescriptionStyleModel",
            "_view_count": null,
            "_view_module": "@jupyter-widgets/base",
            "_view_module_version": "1.2.0",
            "_view_name": "StyleView",
            "description_width": ""
          }
        },
        "c8a24728b53d4ab8b19ace2bb78a4f91": {
          "model_module": "@jupyter-widgets/base",
          "model_name": "LayoutModel",
          "model_module_version": "1.2.0",
          "state": {
            "_model_module": "@jupyter-widgets/base",
            "_model_module_version": "1.2.0",
            "_model_name": "LayoutModel",
            "_view_count": null,
            "_view_module": "@jupyter-widgets/base",
            "_view_module_version": "1.2.0",
            "_view_name": "LayoutView",
            "align_content": null,
            "align_items": null,
            "align_self": null,
            "border": null,
            "bottom": null,
            "display": null,
            "flex": null,
            "flex_flow": null,
            "grid_area": null,
            "grid_auto_columns": null,
            "grid_auto_flow": null,
            "grid_auto_rows": null,
            "grid_column": null,
            "grid_gap": null,
            "grid_row": null,
            "grid_template_areas": null,
            "grid_template_columns": null,
            "grid_template_rows": null,
            "height": null,
            "justify_content": null,
            "justify_items": null,
            "left": null,
            "margin": null,
            "max_height": null,
            "max_width": null,
            "min_height": null,
            "min_width": null,
            "object_fit": null,
            "object_position": null,
            "order": null,
            "overflow": null,
            "overflow_x": null,
            "overflow_y": null,
            "padding": null,
            "right": null,
            "top": null,
            "visibility": null,
            "width": null
          }
        },
        "720d4ed748434b8a8cb4c5642d02ca69": {
          "model_module": "@jupyter-widgets/controls",
          "model_name": "ProgressStyleModel",
          "model_module_version": "1.5.0",
          "state": {
            "_model_module": "@jupyter-widgets/controls",
            "_model_module_version": "1.5.0",
            "_model_name": "ProgressStyleModel",
            "_view_count": null,
            "_view_module": "@jupyter-widgets/base",
            "_view_module_version": "1.2.0",
            "_view_name": "StyleView",
            "bar_color": null,
            "description_width": ""
          }
        },
        "bddb0ae5b36546b2bde2a02fad7f9e0a": {
          "model_module": "@jupyter-widgets/base",
          "model_name": "LayoutModel",
          "model_module_version": "1.2.0",
          "state": {
            "_model_module": "@jupyter-widgets/base",
            "_model_module_version": "1.2.0",
            "_model_name": "LayoutModel",
            "_view_count": null,
            "_view_module": "@jupyter-widgets/base",
            "_view_module_version": "1.2.0",
            "_view_name": "LayoutView",
            "align_content": null,
            "align_items": null,
            "align_self": null,
            "border": null,
            "bottom": null,
            "display": null,
            "flex": null,
            "flex_flow": null,
            "grid_area": null,
            "grid_auto_columns": null,
            "grid_auto_flow": null,
            "grid_auto_rows": null,
            "grid_column": null,
            "grid_gap": null,
            "grid_row": null,
            "grid_template_areas": null,
            "grid_template_columns": null,
            "grid_template_rows": null,
            "height": null,
            "justify_content": null,
            "justify_items": null,
            "left": null,
            "margin": null,
            "max_height": null,
            "max_width": null,
            "min_height": null,
            "min_width": null,
            "object_fit": null,
            "object_position": null,
            "order": null,
            "overflow": null,
            "overflow_x": null,
            "overflow_y": null,
            "padding": null,
            "right": null,
            "top": null,
            "visibility": null,
            "width": null
          }
        },
        "c4b47f5acb014c87aeb3d74e22ffbc1b": {
          "model_module": "@jupyter-widgets/controls",
          "model_name": "DescriptionStyleModel",
          "model_module_version": "1.5.0",
          "state": {
            "_model_module": "@jupyter-widgets/controls",
            "_model_module_version": "1.5.0",
            "_model_name": "DescriptionStyleModel",
            "_view_count": null,
            "_view_module": "@jupyter-widgets/base",
            "_view_module_version": "1.2.0",
            "_view_name": "StyleView",
            "description_width": ""
          }
        }
      }
    }
  },
  "cells": [
    {
      "cell_type": "code",
      "execution_count": null,
      "metadata": {
        "id": "KdsggBOXIDq6"
      },
      "outputs": [],
      "source": [
        "!pip install --pre pycaret"
      ]
    },
    {
      "cell_type": "code",
      "source": [
        "import pandas as pd\n",
        "import numpy as np\n",
        "from pycaret.datasets import get_data\n",
        "from google.colab import drive\n",
        "from pycaret.classification import *"
      ],
      "metadata": {
        "id": "ZLMvipsLIEaj"
      },
      "execution_count": null,
      "outputs": []
    },
    {
      "cell_type": "markdown",
      "source": [
        "## Data"
      ],
      "metadata": {
        "id": "QDFZ0WEJIL82"
      }
    },
    {
      "cell_type": "code",
      "source": [
        "drive.mount('/content/drive')\n",
        "path='/content/drive/MyDrive/Colab Notebooks/Data/Hotel_Reservations.csv'\n",
        "df=pd.read_csv(path)\n",
        "s = setup(df, target = 'booking_status')"
      ],
      "metadata": {
        "colab": {
          "base_uri": "https://localhost:8080/",
          "height": 788
        },
        "id": "zdDb6WelINDu",
        "outputId": "121dc69c-6bd2-4f65-ff47-7e05afe0d1ee"
      },
      "execution_count": null,
      "outputs": [
        {
          "output_type": "stream",
          "name": "stdout",
          "text": [
            "Mounted at /content/drive\n"
          ]
        },
        {
          "output_type": "display_data",
          "data": {
            "text/plain": [
              "<pandas.io.formats.style.Styler at 0x7efce3920640>"
            ],
            "text/html": [
              "<style type=\"text/css\">\n",
              "#T_bcdde_row10_col1 {\n",
              "  background-color: lightgreen;\n",
              "}\n",
              "</style>\n",
              "<table id=\"T_bcdde_\" class=\"dataframe\">\n",
              "  <thead>\n",
              "    <tr>\n",
              "      <th class=\"blank level0\" >&nbsp;</th>\n",
              "      <th class=\"col_heading level0 col0\" >Description</th>\n",
              "      <th class=\"col_heading level0 col1\" >Value</th>\n",
              "    </tr>\n",
              "  </thead>\n",
              "  <tbody>\n",
              "    <tr>\n",
              "      <th id=\"T_bcdde_level0_row0\" class=\"row_heading level0 row0\" >0</th>\n",
              "      <td id=\"T_bcdde_row0_col0\" class=\"data row0 col0\" >Session id</td>\n",
              "      <td id=\"T_bcdde_row0_col1\" class=\"data row0 col1\" >8309</td>\n",
              "    </tr>\n",
              "    <tr>\n",
              "      <th id=\"T_bcdde_level0_row1\" class=\"row_heading level0 row1\" >1</th>\n",
              "      <td id=\"T_bcdde_row1_col0\" class=\"data row1 col0\" >Target</td>\n",
              "      <td id=\"T_bcdde_row1_col1\" class=\"data row1 col1\" >booking_status</td>\n",
              "    </tr>\n",
              "    <tr>\n",
              "      <th id=\"T_bcdde_level0_row2\" class=\"row_heading level0 row2\" >2</th>\n",
              "      <td id=\"T_bcdde_row2_col0\" class=\"data row2 col0\" >Target type</td>\n",
              "      <td id=\"T_bcdde_row2_col1\" class=\"data row2 col1\" >Binary</td>\n",
              "    </tr>\n",
              "    <tr>\n",
              "      <th id=\"T_bcdde_level0_row3\" class=\"row_heading level0 row3\" >3</th>\n",
              "      <td id=\"T_bcdde_row3_col0\" class=\"data row3 col0\" >Target mapping</td>\n",
              "      <td id=\"T_bcdde_row3_col1\" class=\"data row3 col1\" >Canceled: 0, Not_Canceled: 1</td>\n",
              "    </tr>\n",
              "    <tr>\n",
              "      <th id=\"T_bcdde_level0_row4\" class=\"row_heading level0 row4\" >4</th>\n",
              "      <td id=\"T_bcdde_row4_col0\" class=\"data row4 col0\" >Original data shape</td>\n",
              "      <td id=\"T_bcdde_row4_col1\" class=\"data row4 col1\" >(36275, 19)</td>\n",
              "    </tr>\n",
              "    <tr>\n",
              "      <th id=\"T_bcdde_level0_row5\" class=\"row_heading level0 row5\" >5</th>\n",
              "      <td id=\"T_bcdde_row5_col0\" class=\"data row5 col0\" >Transformed data shape</td>\n",
              "      <td id=\"T_bcdde_row5_col1\" class=\"data row5 col1\" >(36275, 32)</td>\n",
              "    </tr>\n",
              "    <tr>\n",
              "      <th id=\"T_bcdde_level0_row6\" class=\"row_heading level0 row6\" >6</th>\n",
              "      <td id=\"T_bcdde_row6_col0\" class=\"data row6 col0\" >Transformed train set shape</td>\n",
              "      <td id=\"T_bcdde_row6_col1\" class=\"data row6 col1\" >(25392, 32)</td>\n",
              "    </tr>\n",
              "    <tr>\n",
              "      <th id=\"T_bcdde_level0_row7\" class=\"row_heading level0 row7\" >7</th>\n",
              "      <td id=\"T_bcdde_row7_col0\" class=\"data row7 col0\" >Transformed test set shape</td>\n",
              "      <td id=\"T_bcdde_row7_col1\" class=\"data row7 col1\" >(10883, 32)</td>\n",
              "    </tr>\n",
              "    <tr>\n",
              "      <th id=\"T_bcdde_level0_row8\" class=\"row_heading level0 row8\" >8</th>\n",
              "      <td id=\"T_bcdde_row8_col0\" class=\"data row8 col0\" >Numeric features</td>\n",
              "      <td id=\"T_bcdde_row8_col1\" class=\"data row8 col1\" >14</td>\n",
              "    </tr>\n",
              "    <tr>\n",
              "      <th id=\"T_bcdde_level0_row9\" class=\"row_heading level0 row9\" >9</th>\n",
              "      <td id=\"T_bcdde_row9_col0\" class=\"data row9 col0\" >Categorical features</td>\n",
              "      <td id=\"T_bcdde_row9_col1\" class=\"data row9 col1\" >4</td>\n",
              "    </tr>\n",
              "    <tr>\n",
              "      <th id=\"T_bcdde_level0_row10\" class=\"row_heading level0 row10\" >10</th>\n",
              "      <td id=\"T_bcdde_row10_col0\" class=\"data row10 col0\" >Preprocess</td>\n",
              "      <td id=\"T_bcdde_row10_col1\" class=\"data row10 col1\" >True</td>\n",
              "    </tr>\n",
              "    <tr>\n",
              "      <th id=\"T_bcdde_level0_row11\" class=\"row_heading level0 row11\" >11</th>\n",
              "      <td id=\"T_bcdde_row11_col0\" class=\"data row11 col0\" >Imputation type</td>\n",
              "      <td id=\"T_bcdde_row11_col1\" class=\"data row11 col1\" >simple</td>\n",
              "    </tr>\n",
              "    <tr>\n",
              "      <th id=\"T_bcdde_level0_row12\" class=\"row_heading level0 row12\" >12</th>\n",
              "      <td id=\"T_bcdde_row12_col0\" class=\"data row12 col0\" >Numeric imputation</td>\n",
              "      <td id=\"T_bcdde_row12_col1\" class=\"data row12 col1\" >mean</td>\n",
              "    </tr>\n",
              "    <tr>\n",
              "      <th id=\"T_bcdde_level0_row13\" class=\"row_heading level0 row13\" >13</th>\n",
              "      <td id=\"T_bcdde_row13_col0\" class=\"data row13 col0\" >Categorical imputation</td>\n",
              "      <td id=\"T_bcdde_row13_col1\" class=\"data row13 col1\" >mode</td>\n",
              "    </tr>\n",
              "    <tr>\n",
              "      <th id=\"T_bcdde_level0_row14\" class=\"row_heading level0 row14\" >14</th>\n",
              "      <td id=\"T_bcdde_row14_col0\" class=\"data row14 col0\" >Maximum one-hot encoding</td>\n",
              "      <td id=\"T_bcdde_row14_col1\" class=\"data row14 col1\" >25</td>\n",
              "    </tr>\n",
              "    <tr>\n",
              "      <th id=\"T_bcdde_level0_row15\" class=\"row_heading level0 row15\" >15</th>\n",
              "      <td id=\"T_bcdde_row15_col0\" class=\"data row15 col0\" >Encoding method</td>\n",
              "      <td id=\"T_bcdde_row15_col1\" class=\"data row15 col1\" >None</td>\n",
              "    </tr>\n",
              "    <tr>\n",
              "      <th id=\"T_bcdde_level0_row16\" class=\"row_heading level0 row16\" >16</th>\n",
              "      <td id=\"T_bcdde_row16_col0\" class=\"data row16 col0\" >Fold Generator</td>\n",
              "      <td id=\"T_bcdde_row16_col1\" class=\"data row16 col1\" >StratifiedKFold</td>\n",
              "    </tr>\n",
              "    <tr>\n",
              "      <th id=\"T_bcdde_level0_row17\" class=\"row_heading level0 row17\" >17</th>\n",
              "      <td id=\"T_bcdde_row17_col0\" class=\"data row17 col0\" >Fold Number</td>\n",
              "      <td id=\"T_bcdde_row17_col1\" class=\"data row17 col1\" >10</td>\n",
              "    </tr>\n",
              "    <tr>\n",
              "      <th id=\"T_bcdde_level0_row18\" class=\"row_heading level0 row18\" >18</th>\n",
              "      <td id=\"T_bcdde_row18_col0\" class=\"data row18 col0\" >CPU Jobs</td>\n",
              "      <td id=\"T_bcdde_row18_col1\" class=\"data row18 col1\" >-1</td>\n",
              "    </tr>\n",
              "    <tr>\n",
              "      <th id=\"T_bcdde_level0_row19\" class=\"row_heading level0 row19\" >19</th>\n",
              "      <td id=\"T_bcdde_row19_col0\" class=\"data row19 col0\" >Use GPU</td>\n",
              "      <td id=\"T_bcdde_row19_col1\" class=\"data row19 col1\" >False</td>\n",
              "    </tr>\n",
              "    <tr>\n",
              "      <th id=\"T_bcdde_level0_row20\" class=\"row_heading level0 row20\" >20</th>\n",
              "      <td id=\"T_bcdde_row20_col0\" class=\"data row20 col0\" >Log Experiment</td>\n",
              "      <td id=\"T_bcdde_row20_col1\" class=\"data row20 col1\" >False</td>\n",
              "    </tr>\n",
              "    <tr>\n",
              "      <th id=\"T_bcdde_level0_row21\" class=\"row_heading level0 row21\" >21</th>\n",
              "      <td id=\"T_bcdde_row21_col0\" class=\"data row21 col0\" >Experiment Name</td>\n",
              "      <td id=\"T_bcdde_row21_col1\" class=\"data row21 col1\" >clf-default-name</td>\n",
              "    </tr>\n",
              "    <tr>\n",
              "      <th id=\"T_bcdde_level0_row22\" class=\"row_heading level0 row22\" >22</th>\n",
              "      <td id=\"T_bcdde_row22_col0\" class=\"data row22 col0\" >USI</td>\n",
              "      <td id=\"T_bcdde_row22_col1\" class=\"data row22 col1\" >e381</td>\n",
              "    </tr>\n",
              "  </tbody>\n",
              "</table>\n"
            ]
          },
          "metadata": {}
        }
      ]
    },
    {
      "cell_type": "markdown",
      "source": [
        "## Model comparison"
      ],
      "metadata": {
        "id": "9m6vUqNNIaFE"
      }
    },
    {
      "cell_type": "code",
      "source": [
        "df.head()"
      ],
      "metadata": {
        "id": "_PQiPGcVQOMS"
      },
      "execution_count": null,
      "outputs": []
    },
    {
      "cell_type": "code",
      "source": [
        "best = compare_models()"
      ],
      "metadata": {
        "colab": {
          "base_uri": "https://localhost:8080/",
          "height": 520,
          "referenced_widgets": [
            "67d44a17acdd4b8abb3653ae4326b8b8",
            "aba7dd41657043a993d9750998e65cbe",
            "e072a3df799745bd983dbecf7d97736c",
            "29a409bea023482683202d620baaddb3",
            "002c7999f114464980086faf0b7b1e77",
            "4ff71448fa5f4fa4bc1cefcd7d35972d",
            "33113c24dae642138a67ac8f81da2948",
            "c8a24728b53d4ab8b19ace2bb78a4f91",
            "720d4ed748434b8a8cb4c5642d02ca69",
            "bddb0ae5b36546b2bde2a02fad7f9e0a",
            "c4b47f5acb014c87aeb3d74e22ffbc1b"
          ]
        },
        "id": "UUi797K8IXK8",
        "outputId": "5b07d35d-5f3d-404f-c4ee-71c00f745555"
      },
      "execution_count": null,
      "outputs": [
        {
          "output_type": "display_data",
          "data": {
            "text/plain": [
              "<IPython.core.display.HTML object>"
            ],
            "text/html": []
          },
          "metadata": {}
        },
        {
          "output_type": "display_data",
          "data": {
            "text/plain": [
              "<pandas.io.formats.style.Styler at 0x7efcebeac910>"
            ],
            "text/html": [
              "<style type=\"text/css\">\n",
              "#T_ba20c_ th {\n",
              "  text-align: left;\n",
              "}\n",
              "#T_ba20c_row0_col0, #T_ba20c_row0_col2, #T_ba20c_row0_col3, #T_ba20c_row1_col0, #T_ba20c_row1_col1, #T_ba20c_row1_col3, #T_ba20c_row1_col4, #T_ba20c_row1_col5, #T_ba20c_row1_col6, #T_ba20c_row1_col7, #T_ba20c_row2_col0, #T_ba20c_row2_col1, #T_ba20c_row2_col2, #T_ba20c_row2_col3, #T_ba20c_row2_col4, #T_ba20c_row2_col5, #T_ba20c_row2_col6, #T_ba20c_row2_col7, #T_ba20c_row3_col0, #T_ba20c_row3_col1, #T_ba20c_row3_col2, #T_ba20c_row3_col3, #T_ba20c_row3_col4, #T_ba20c_row3_col5, #T_ba20c_row3_col6, #T_ba20c_row3_col7, #T_ba20c_row4_col0, #T_ba20c_row4_col1, #T_ba20c_row4_col2, #T_ba20c_row4_col3, #T_ba20c_row4_col4, #T_ba20c_row4_col5, #T_ba20c_row4_col6, #T_ba20c_row4_col7, #T_ba20c_row5_col0, #T_ba20c_row5_col1, #T_ba20c_row5_col2, #T_ba20c_row5_col3, #T_ba20c_row5_col4, #T_ba20c_row5_col5, #T_ba20c_row5_col6, #T_ba20c_row5_col7, #T_ba20c_row6_col0, #T_ba20c_row6_col1, #T_ba20c_row6_col2, #T_ba20c_row6_col3, #T_ba20c_row6_col4, #T_ba20c_row6_col5, #T_ba20c_row6_col6, #T_ba20c_row6_col7, #T_ba20c_row7_col0, #T_ba20c_row7_col1, #T_ba20c_row7_col2, #T_ba20c_row7_col3, #T_ba20c_row7_col4, #T_ba20c_row7_col5, #T_ba20c_row7_col6, #T_ba20c_row7_col7, #T_ba20c_row8_col0, #T_ba20c_row8_col1, #T_ba20c_row8_col2, #T_ba20c_row8_col3, #T_ba20c_row8_col4, #T_ba20c_row8_col5, #T_ba20c_row8_col6, #T_ba20c_row8_col7, #T_ba20c_row9_col0, #T_ba20c_row9_col1, #T_ba20c_row9_col2, #T_ba20c_row9_col3, #T_ba20c_row9_col4, #T_ba20c_row9_col5, #T_ba20c_row9_col6, #T_ba20c_row9_col7, #T_ba20c_row10_col0, #T_ba20c_row10_col1, #T_ba20c_row10_col2, #T_ba20c_row10_col3, #T_ba20c_row10_col4, #T_ba20c_row10_col5, #T_ba20c_row10_col6, #T_ba20c_row10_col7, #T_ba20c_row11_col0, #T_ba20c_row11_col1, #T_ba20c_row11_col2, #T_ba20c_row11_col4, #T_ba20c_row11_col5, #T_ba20c_row11_col6, #T_ba20c_row11_col7, #T_ba20c_row12_col0, #T_ba20c_row12_col1, #T_ba20c_row12_col2, #T_ba20c_row12_col3, #T_ba20c_row12_col4, #T_ba20c_row12_col5, #T_ba20c_row12_col6, #T_ba20c_row12_col7, #T_ba20c_row13_col0, #T_ba20c_row13_col1, #T_ba20c_row13_col2, #T_ba20c_row13_col3, #T_ba20c_row13_col4, #T_ba20c_row13_col5, #T_ba20c_row13_col6, #T_ba20c_row13_col7, #T_ba20c_row14_col0, #T_ba20c_row14_col1, #T_ba20c_row14_col2, #T_ba20c_row14_col3, #T_ba20c_row14_col4, #T_ba20c_row14_col5, #T_ba20c_row14_col6, #T_ba20c_row14_col7 {\n",
              "  text-align: left;\n",
              "}\n",
              "#T_ba20c_row0_col1, #T_ba20c_row0_col4, #T_ba20c_row0_col5, #T_ba20c_row0_col6, #T_ba20c_row0_col7, #T_ba20c_row1_col2, #T_ba20c_row11_col3 {\n",
              "  text-align: left;\n",
              "  background-color: yellow;\n",
              "}\n",
              "#T_ba20c_row0_col8, #T_ba20c_row1_col8, #T_ba20c_row2_col8, #T_ba20c_row3_col8, #T_ba20c_row4_col8, #T_ba20c_row5_col8, #T_ba20c_row6_col8, #T_ba20c_row7_col8, #T_ba20c_row8_col8, #T_ba20c_row10_col8, #T_ba20c_row11_col8, #T_ba20c_row12_col8, #T_ba20c_row13_col8, #T_ba20c_row14_col8 {\n",
              "  text-align: left;\n",
              "  background-color: lightgrey;\n",
              "}\n",
              "#T_ba20c_row9_col8 {\n",
              "  text-align: left;\n",
              "  background-color: yellow;\n",
              "  background-color: lightgrey;\n",
              "}\n",
              "</style>\n",
              "<table id=\"T_ba20c_\" class=\"dataframe\">\n",
              "  <thead>\n",
              "    <tr>\n",
              "      <th class=\"blank level0\" >&nbsp;</th>\n",
              "      <th class=\"col_heading level0 col0\" >Model</th>\n",
              "      <th class=\"col_heading level0 col1\" >Accuracy</th>\n",
              "      <th class=\"col_heading level0 col2\" >AUC</th>\n",
              "      <th class=\"col_heading level0 col3\" >Recall</th>\n",
              "      <th class=\"col_heading level0 col4\" >Prec.</th>\n",
              "      <th class=\"col_heading level0 col5\" >F1</th>\n",
              "      <th class=\"col_heading level0 col6\" >Kappa</th>\n",
              "      <th class=\"col_heading level0 col7\" >MCC</th>\n",
              "      <th class=\"col_heading level0 col8\" >TT (Sec)</th>\n",
              "    </tr>\n",
              "  </thead>\n",
              "  <tbody>\n",
              "    <tr>\n",
              "      <th id=\"T_ba20c_level0_row0\" class=\"row_heading level0 row0\" >rf</th>\n",
              "      <td id=\"T_ba20c_row0_col0\" class=\"data row0 col0\" >Random Forest Classifier</td>\n",
              "      <td id=\"T_ba20c_row0_col1\" class=\"data row0 col1\" >0.8979</td>\n",
              "      <td id=\"T_ba20c_row0_col2\" class=\"data row0 col2\" >0.9493</td>\n",
              "      <td id=\"T_ba20c_row0_col3\" class=\"data row0 col3\" >0.9430</td>\n",
              "      <td id=\"T_ba20c_row0_col4\" class=\"data row0 col4\" >0.9086</td>\n",
              "      <td id=\"T_ba20c_row0_col5\" class=\"data row0 col5\" >0.9255</td>\n",
              "      <td id=\"T_ba20c_row0_col6\" class=\"data row0 col6\" >0.7635</td>\n",
              "      <td id=\"T_ba20c_row0_col7\" class=\"data row0 col7\" >0.7649</td>\n",
              "      <td id=\"T_ba20c_row0_col8\" class=\"data row0 col8\" >0.3220</td>\n",
              "    </tr>\n",
              "    <tr>\n",
              "      <th id=\"T_ba20c_level0_row1\" class=\"row_heading level0 row1\" >xgboost</th>\n",
              "      <td id=\"T_ba20c_row1_col0\" class=\"data row1 col0\" >Extreme Gradient Boosting</td>\n",
              "      <td id=\"T_ba20c_row1_col1\" class=\"data row1 col1\" >0.8909</td>\n",
              "      <td id=\"T_ba20c_row1_col2\" class=\"data row1 col2\" >0.9505</td>\n",
              "      <td id=\"T_ba20c_row1_col3\" class=\"data row1 col3\" >0.9379</td>\n",
              "      <td id=\"T_ba20c_row1_col4\" class=\"data row1 col4\" >0.9035</td>\n",
              "      <td id=\"T_ba20c_row1_col5\" class=\"data row1 col5\" >0.9204</td>\n",
              "      <td id=\"T_ba20c_row1_col6\" class=\"data row1 col6\" >0.7473</td>\n",
              "      <td id=\"T_ba20c_row1_col7\" class=\"data row1 col7\" >0.7487</td>\n",
              "      <td id=\"T_ba20c_row1_col8\" class=\"data row1 col8\" >0.4880</td>\n",
              "    </tr>\n",
              "    <tr>\n",
              "      <th id=\"T_ba20c_level0_row2\" class=\"row_heading level0 row2\" >et</th>\n",
              "      <td id=\"T_ba20c_row2_col0\" class=\"data row2 col0\" >Extra Trees Classifier</td>\n",
              "      <td id=\"T_ba20c_row2_col1\" class=\"data row2 col1\" >0.8854</td>\n",
              "      <td id=\"T_ba20c_row2_col2\" class=\"data row2 col2\" >0.9409</td>\n",
              "      <td id=\"T_ba20c_row2_col3\" class=\"data row2 col3\" >0.9303</td>\n",
              "      <td id=\"T_ba20c_row2_col4\" class=\"data row2 col4\" >0.9024</td>\n",
              "      <td id=\"T_ba20c_row2_col5\" class=\"data row2 col5\" >0.9161</td>\n",
              "      <td id=\"T_ba20c_row2_col6\" class=\"data row2 col6\" >0.7357</td>\n",
              "      <td id=\"T_ba20c_row2_col7\" class=\"data row2 col7\" >0.7366</td>\n",
              "      <td id=\"T_ba20c_row2_col8\" class=\"data row2 col8\" >0.4450</td>\n",
              "    </tr>\n",
              "    <tr>\n",
              "      <th id=\"T_ba20c_level0_row3\" class=\"row_heading level0 row3\" >lightgbm</th>\n",
              "      <td id=\"T_ba20c_row3_col0\" class=\"data row3 col0\" >Light Gradient Boosting Machine</td>\n",
              "      <td id=\"T_ba20c_row3_col1\" class=\"data row3 col1\" >0.8843</td>\n",
              "      <td id=\"T_ba20c_row3_col2\" class=\"data row3 col2\" >0.9463</td>\n",
              "      <td id=\"T_ba20c_row3_col3\" class=\"data row3 col3\" >0.9360</td>\n",
              "      <td id=\"T_ba20c_row3_col4\" class=\"data row3 col4\" >0.8965</td>\n",
              "      <td id=\"T_ba20c_row3_col5\" class=\"data row3 col5\" >0.9158</td>\n",
              "      <td id=\"T_ba20c_row3_col6\" class=\"data row3 col6\" >0.7312</td>\n",
              "      <td id=\"T_ba20c_row3_col7\" class=\"data row3 col7\" >0.7331</td>\n",
              "      <td id=\"T_ba20c_row3_col8\" class=\"data row3 col8\" >0.1950</td>\n",
              "    </tr>\n",
              "    <tr>\n",
              "      <th id=\"T_ba20c_level0_row4\" class=\"row_heading level0 row4\" >dt</th>\n",
              "      <td id=\"T_ba20c_row4_col0\" class=\"data row4 col0\" >Decision Tree Classifier</td>\n",
              "      <td id=\"T_ba20c_row4_col1\" class=\"data row4 col1\" >0.8590</td>\n",
              "      <td id=\"T_ba20c_row4_col2\" class=\"data row4 col2\" >0.8471</td>\n",
              "      <td id=\"T_ba20c_row4_col3\" class=\"data row4 col3\" >0.8873</td>\n",
              "      <td id=\"T_ba20c_row4_col4\" class=\"data row4 col4\" >0.9015</td>\n",
              "      <td id=\"T_ba20c_row4_col5\" class=\"data row4 col5\" >0.8943</td>\n",
              "      <td id=\"T_ba20c_row4_col6\" class=\"data row4 col6\" >0.6826</td>\n",
              "      <td id=\"T_ba20c_row4_col7\" class=\"data row4 col7\" >0.6829</td>\n",
              "      <td id=\"T_ba20c_row4_col8\" class=\"data row4 col8\" >0.3100</td>\n",
              "    </tr>\n",
              "    <tr>\n",
              "      <th id=\"T_ba20c_level0_row5\" class=\"row_heading level0 row5\" >gbc</th>\n",
              "      <td id=\"T_ba20c_row5_col0\" class=\"data row5 col0\" >Gradient Boosting Classifier</td>\n",
              "      <td id=\"T_ba20c_row5_col1\" class=\"data row5 col1\" >0.8494</td>\n",
              "      <td id=\"T_ba20c_row5_col2\" class=\"data row5 col2\" >0.9124</td>\n",
              "      <td id=\"T_ba20c_row5_col3\" class=\"data row5 col3\" >0.9247</td>\n",
              "      <td id=\"T_ba20c_row5_col4\" class=\"data row5 col4\" >0.8615</td>\n",
              "      <td id=\"T_ba20c_row5_col5\" class=\"data row5 col5\" >0.8919</td>\n",
              "      <td id=\"T_ba20c_row5_col6\" class=\"data row5 col6\" >0.6444</td>\n",
              "      <td id=\"T_ba20c_row5_col7\" class=\"data row5 col7\" >0.6489</td>\n",
              "      <td id=\"T_ba20c_row5_col8\" class=\"data row5 col8\" >0.4310</td>\n",
              "    </tr>\n",
              "    <tr>\n",
              "      <th id=\"T_ba20c_level0_row6\" class=\"row_heading level0 row6\" >ada</th>\n",
              "      <td id=\"T_ba20c_row6_col0\" class=\"data row6 col0\" >Ada Boost Classifier</td>\n",
              "      <td id=\"T_ba20c_row6_col1\" class=\"data row6 col1\" >0.8162</td>\n",
              "      <td id=\"T_ba20c_row6_col2\" class=\"data row6 col2\" >0.8793</td>\n",
              "      <td id=\"T_ba20c_row6_col3\" class=\"data row6 col3\" >0.8852</td>\n",
              "      <td id=\"T_ba20c_row6_col4\" class=\"data row6 col4\" >0.8481</td>\n",
              "      <td id=\"T_ba20c_row6_col5\" class=\"data row6 col5\" >0.8662</td>\n",
              "      <td id=\"T_ba20c_row6_col6\" class=\"data row6 col6\" >0.5729</td>\n",
              "      <td id=\"T_ba20c_row6_col7\" class=\"data row6 col7\" >0.5744</td>\n",
              "      <td id=\"T_ba20c_row6_col8\" class=\"data row6 col8\" >0.2260</td>\n",
              "    </tr>\n",
              "    <tr>\n",
              "      <th id=\"T_ba20c_level0_row7\" class=\"row_heading level0 row7\" >lr</th>\n",
              "      <td id=\"T_ba20c_row7_col0\" class=\"data row7 col0\" >Logistic Regression</td>\n",
              "      <td id=\"T_ba20c_row7_col1\" class=\"data row7 col1\" >0.7999</td>\n",
              "      <td id=\"T_ba20c_row7_col2\" class=\"data row7 col2\" >0.8589</td>\n",
              "      <td id=\"T_ba20c_row7_col3\" class=\"data row7 col3\" >0.8888</td>\n",
              "      <td id=\"T_ba20c_row7_col4\" class=\"data row7 col4\" >0.8267</td>\n",
              "      <td id=\"T_ba20c_row7_col5\" class=\"data row7 col5\" >0.8566</td>\n",
              "      <td id=\"T_ba20c_row7_col6\" class=\"data row7 col6\" >0.5272</td>\n",
              "      <td id=\"T_ba20c_row7_col7\" class=\"data row7 col7\" >0.5311</td>\n",
              "      <td id=\"T_ba20c_row7_col8\" class=\"data row7 col8\" >0.7690</td>\n",
              "    </tr>\n",
              "    <tr>\n",
              "      <th id=\"T_ba20c_level0_row8\" class=\"row_heading level0 row8\" >knn</th>\n",
              "      <td id=\"T_ba20c_row8_col0\" class=\"data row8 col0\" >K Neighbors Classifier</td>\n",
              "      <td id=\"T_ba20c_row8_col1\" class=\"data row8 col1\" >0.7996</td>\n",
              "      <td id=\"T_ba20c_row8_col2\" class=\"data row8 col2\" >0.8393</td>\n",
              "      <td id=\"T_ba20c_row8_col3\" class=\"data row8 col3\" >0.8888</td>\n",
              "      <td id=\"T_ba20c_row8_col4\" class=\"data row8 col4\" >0.8263</td>\n",
              "      <td id=\"T_ba20c_row8_col5\" class=\"data row8 col5\" >0.8564</td>\n",
              "      <td id=\"T_ba20c_row8_col6\" class=\"data row8 col6\" >0.5262</td>\n",
              "      <td id=\"T_ba20c_row8_col7\" class=\"data row8 col7\" >0.5301</td>\n",
              "      <td id=\"T_ba20c_row8_col8\" class=\"data row8 col8\" >0.3810</td>\n",
              "    </tr>\n",
              "    <tr>\n",
              "      <th id=\"T_ba20c_level0_row9\" class=\"row_heading level0 row9\" >ridge</th>\n",
              "      <td id=\"T_ba20c_row9_col0\" class=\"data row9 col0\" >Ridge Classifier</td>\n",
              "      <td id=\"T_ba20c_row9_col1\" class=\"data row9 col1\" >0.7973</td>\n",
              "      <td id=\"T_ba20c_row9_col2\" class=\"data row9 col2\" >0.0000</td>\n",
              "      <td id=\"T_ba20c_row9_col3\" class=\"data row9 col3\" >0.9032</td>\n",
              "      <td id=\"T_ba20c_row9_col4\" class=\"data row9 col4\" >0.8153</td>\n",
              "      <td id=\"T_ba20c_row9_col5\" class=\"data row9 col5\" >0.8570</td>\n",
              "      <td id=\"T_ba20c_row9_col6\" class=\"data row9 col6\" >0.5124</td>\n",
              "      <td id=\"T_ba20c_row9_col7\" class=\"data row9 col7\" >0.5204</td>\n",
              "      <td id=\"T_ba20c_row9_col8\" class=\"data row9 col8\" >0.1100</td>\n",
              "    </tr>\n",
              "    <tr>\n",
              "      <th id=\"T_ba20c_level0_row10\" class=\"row_heading level0 row10\" >lda</th>\n",
              "      <td id=\"T_ba20c_row10_col0\" class=\"data row10 col0\" >Linear Discriminant Analysis</td>\n",
              "      <td id=\"T_ba20c_row10_col1\" class=\"data row10 col1\" >0.7852</td>\n",
              "      <td id=\"T_ba20c_row10_col2\" class=\"data row10 col2\" >0.8593</td>\n",
              "      <td id=\"T_ba20c_row10_col3\" class=\"data row10 col3\" >0.8065</td>\n",
              "      <td id=\"T_ba20c_row10_col4\" class=\"data row10 col4\" >0.8652</td>\n",
              "      <td id=\"T_ba20c_row10_col5\" class=\"data row10 col5\" >0.8347</td>\n",
              "      <td id=\"T_ba20c_row10_col6\" class=\"data row10 col6\" >0.5292</td>\n",
              "      <td id=\"T_ba20c_row10_col7\" class=\"data row10 col7\" >0.5321</td>\n",
              "      <td id=\"T_ba20c_row10_col8\" class=\"data row10 col8\" >0.1280</td>\n",
              "    </tr>\n",
              "    <tr>\n",
              "      <th id=\"T_ba20c_level0_row11\" class=\"row_heading level0 row11\" >dummy</th>\n",
              "      <td id=\"T_ba20c_row11_col0\" class=\"data row11 col0\" >Dummy Classifier</td>\n",
              "      <td id=\"T_ba20c_row11_col1\" class=\"data row11 col1\" >0.6724</td>\n",
              "      <td id=\"T_ba20c_row11_col2\" class=\"data row11 col2\" >0.5000</td>\n",
              "      <td id=\"T_ba20c_row11_col3\" class=\"data row11 col3\" >1.0000</td>\n",
              "      <td id=\"T_ba20c_row11_col4\" class=\"data row11 col4\" >0.6724</td>\n",
              "      <td id=\"T_ba20c_row11_col5\" class=\"data row11 col5\" >0.8041</td>\n",
              "      <td id=\"T_ba20c_row11_col6\" class=\"data row11 col6\" >0.0000</td>\n",
              "      <td id=\"T_ba20c_row11_col7\" class=\"data row11 col7\" >0.0000</td>\n",
              "      <td id=\"T_ba20c_row11_col8\" class=\"data row11 col8\" >0.1120</td>\n",
              "    </tr>\n",
              "    <tr>\n",
              "      <th id=\"T_ba20c_level0_row12\" class=\"row_heading level0 row12\" >svm</th>\n",
              "      <td id=\"T_ba20c_row12_col0\" class=\"data row12 col0\" >SVM - Linear Kernel</td>\n",
              "      <td id=\"T_ba20c_row12_col1\" class=\"data row12 col1\" >0.6589</td>\n",
              "      <td id=\"T_ba20c_row12_col2\" class=\"data row12 col2\" >0.0000</td>\n",
              "      <td id=\"T_ba20c_row12_col3\" class=\"data row12 col3\" >0.6891</td>\n",
              "      <td id=\"T_ba20c_row12_col4\" class=\"data row12 col4\" >0.8294</td>\n",
              "      <td id=\"T_ba20c_row12_col5\" class=\"data row12 col5\" >0.6514</td>\n",
              "      <td id=\"T_ba20c_row12_col6\" class=\"data row12 col6\" >0.3075</td>\n",
              "      <td id=\"T_ba20c_row12_col7\" class=\"data row12 col7\" >0.3565</td>\n",
              "      <td id=\"T_ba20c_row12_col8\" class=\"data row12 col8\" >0.2890</td>\n",
              "    </tr>\n",
              "    <tr>\n",
              "      <th id=\"T_ba20c_level0_row13\" class=\"row_heading level0 row13\" >qda</th>\n",
              "      <td id=\"T_ba20c_row13_col0\" class=\"data row13 col0\" >Quadratic Discriminant Analysis</td>\n",
              "      <td id=\"T_ba20c_row13_col1\" class=\"data row13 col1\" >0.6106</td>\n",
              "      <td id=\"T_ba20c_row13_col2\" class=\"data row13 col2\" >0.5486</td>\n",
              "      <td id=\"T_ba20c_row13_col3\" class=\"data row13 col3\" >0.8110</td>\n",
              "      <td id=\"T_ba20c_row13_col4\" class=\"data row13 col4\" >0.7317</td>\n",
              "      <td id=\"T_ba20c_row13_col5\" class=\"data row13 col5\" >0.6641</td>\n",
              "      <td id=\"T_ba20c_row13_col6\" class=\"data row13 col6\" >0.0069</td>\n",
              "      <td id=\"T_ba20c_row13_col7\" class=\"data row13 col7\" >0.0252</td>\n",
              "      <td id=\"T_ba20c_row13_col8\" class=\"data row13 col8\" >0.1260</td>\n",
              "    </tr>\n",
              "    <tr>\n",
              "      <th id=\"T_ba20c_level0_row14\" class=\"row_heading level0 row14\" >nb</th>\n",
              "      <td id=\"T_ba20c_row14_col0\" class=\"data row14 col0\" >Naive Bayes</td>\n",
              "      <td id=\"T_ba20c_row14_col1\" class=\"data row14 col1\" >0.4120</td>\n",
              "      <td id=\"T_ba20c_row14_col2\" class=\"data row14 col2\" >0.7920</td>\n",
              "      <td id=\"T_ba20c_row14_col3\" class=\"data row14 col3\" >0.1446</td>\n",
              "      <td id=\"T_ba20c_row14_col4\" class=\"data row14 col4\" >0.8837</td>\n",
              "      <td id=\"T_ba20c_row14_col5\" class=\"data row14 col5\" >0.2484</td>\n",
              "      <td id=\"T_ba20c_row14_col6\" class=\"data row14 col6\" >0.0732</td>\n",
              "      <td id=\"T_ba20c_row14_col7\" class=\"data row14 col7\" >0.1581</td>\n",
              "      <td id=\"T_ba20c_row14_col8\" class=\"data row14 col8\" >0.3090</td>\n",
              "    </tr>\n",
              "  </tbody>\n",
              "</table>\n"
            ]
          },
          "metadata": {}
        },
        {
          "output_type": "display_data",
          "data": {
            "text/plain": [
              "Processing:   0%|          | 0/65 [00:00<?, ?it/s]"
            ],
            "application/vnd.jupyter.widget-view+json": {
              "version_major": 2,
              "version_minor": 0,
              "model_id": "67d44a17acdd4b8abb3653ae4326b8b8"
            }
          },
          "metadata": {
            "application/vnd.jupyter.widget-view+json": {
              "colab": {
                "custom_widget_manager": {
                  "url": "https://ssl.gstatic.com/colaboratory-static/widgets/colab-cdn-widget-manager/b3e629b1971e1542/manager.min.js"
                }
              }
            }
          }
        },
        {
          "output_type": "display_data",
          "data": {
            "text/plain": [
              "<IPython.core.display.HTML object>"
            ],
            "text/html": []
          },
          "metadata": {}
        }
      ]
    },
    {
      "cell_type": "code",
      "source": [
        "plot_model(best)"
      ],
      "metadata": {
        "colab": {
          "base_uri": "https://localhost:8080/",
          "height": 294
        },
        "id": "eWmOQBQaIboO",
        "outputId": "ca0df8af-e63e-47e9-d7a7-2035dd2ac8ee"
      },
      "execution_count": null,
      "outputs": [
        {
          "output_type": "display_data",
          "data": {
            "text/plain": [
              "<IPython.core.display.HTML object>"
            ],
            "text/html": []
          },
          "metadata": {}
        },
        {
          "output_type": "display_data",
          "data": {
            "text/plain": [
              "<Figure size 432x288 with 1 Axes>"
            ],
            "image/png": "[encoded data removed]"
          },
          "metadata": {
            "needs_background": "light"
          }
        }
      ]
    },
    {
      "cell_type": "code",
      "source": [
        "evaluate_model(best)"
      ],
      "metadata": {
        "id": "eGQPEp-RIb7W"
      },
      "execution_count": null,
      "outputs": []
    }
  ]
}