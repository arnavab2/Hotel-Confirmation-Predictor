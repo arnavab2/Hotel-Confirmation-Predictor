{
 "cells": [
  {
   "cell_type": "code",
   "execution_count": 2,
   "metadata": {},
   "outputs": [],
   "source": [
    "import numpy as np\n",
    "import pandas as pd\n",
    "import datetime\n",
    "import seaborn as sb"
   ]
  },
  {
   "attachments": {},
   "cell_type": "markdown",
   "metadata": {},
   "source": [
    "Machine learning is one of the few fields that are developing an at explosive rate. There are countless applications of this field, from prediction to inference. \n",
    "Our Group: Team A will be answering a simple question: Can we use machine learning to infer and predict on whether a customer will commit or cancel their bookings. \n",
    "Hotels lose a lot of money when a customer cancels their bookings, and so we thought that we could use machine learning to predict and infer what factors influence customer's decision to commit or cancel.\n",
    "Perhaps we could use our machine learning model to suggest policies hotel chains could use to minimize the revenue lost form a cancelled booking. "
   ]
  },
  {
   "attachments": {},
   "cell_type": "markdown",
   "metadata": {},
   "source": [
    "When we first extracted the dataset, we noticed that there were a vast collection of problems with the dataset. The first issue we found was that there were a total of 18 predictors in the dataset; many of which shared no correlation with the response. To build off the response, we also discovered that, expectedly, the response was purely binary; either a yes or a no, which meant that it would be not be adequate to use a simple linear regression model to regress against the response.\n",
    "Furthermore, upon closer inspection of the dataset description, we had noticed that some of the varibles had an insufficient context of explanation. \n",
    "Due to these condition, our first research questions was simple: What variables are revelant to our response: booking_status. Before we even thought of making a model, our first task was to do feature selection. "
   ]
  },
  {
   "attachments": {},
   "cell_type": "markdown",
   "metadata": {},
   "source": [
    "Feature Selection:\n",
    "We spent a good portion of our time looking at each variable and running many plots and tests to see if they were related to the response in any way. \n",
    "We found many interesting results. \n"
   ]
  },
  {
   "cell_type": "code",
   "execution_count": 3,
   "metadata": {},
   "outputs": [
    {
     "data": {
      "text/html": [
       "<div>\n",
       "<style scoped>\n",
       "    .dataframe tbody tr th:only-of-type {\n",
       "        vertical-align: middle;\n",
       "    }\n",
       "\n",
       "    .dataframe tbody tr th {\n",
       "        vertical-align: top;\n",
       "    }\n",
       "\n",
       "    .dataframe thead th {\n",
       "        text-align: right;\n",
       "    }\n",
       "</style>\n",
       "<table border=\"1\" class=\"dataframe\">\n",
       "  <thead>\n",
       "    <tr style=\"text-align: right;\">\n",
       "      <th></th>\n",
       "      <th>lead_time</th>\n",
       "      <th>avg_price_per_room</th>\n",
       "      <th>special_requests_no</th>\n",
       "      <th>month</th>\n",
       "      <th>prev_show_rate</th>\n",
       "      <th>long_trip</th>\n",
       "      <th>canceled</th>\n",
       "    </tr>\n",
       "  </thead>\n",
       "  <tbody>\n",
       "    <tr>\n",
       "      <th>0</th>\n",
       "      <td>224</td>\n",
       "      <td>65.00</td>\n",
       "      <td>0</td>\n",
       "      <td>10.0</td>\n",
       "      <td>0.5</td>\n",
       "      <td>True</td>\n",
       "      <td>0</td>\n",
       "    </tr>\n",
       "    <tr>\n",
       "      <th>1</th>\n",
       "      <td>5</td>\n",
       "      <td>106.68</td>\n",
       "      <td>1</td>\n",
       "      <td>11.0</td>\n",
       "      <td>0.5</td>\n",
       "      <td>True</td>\n",
       "      <td>0</td>\n",
       "    </tr>\n",
       "    <tr>\n",
       "      <th>2</th>\n",
       "      <td>1</td>\n",
       "      <td>60.00</td>\n",
       "      <td>0</td>\n",
       "      <td>2.0</td>\n",
       "      <td>0.5</td>\n",
       "      <td>True</td>\n",
       "      <td>1</td>\n",
       "    </tr>\n",
       "    <tr>\n",
       "      <th>3</th>\n",
       "      <td>211</td>\n",
       "      <td>100.00</td>\n",
       "      <td>0</td>\n",
       "      <td>5.0</td>\n",
       "      <td>0.5</td>\n",
       "      <td>False</td>\n",
       "      <td>1</td>\n",
       "    </tr>\n",
       "    <tr>\n",
       "      <th>4</th>\n",
       "      <td>48</td>\n",
       "      <td>94.50</td>\n",
       "      <td>0</td>\n",
       "      <td>4.0</td>\n",
       "      <td>0.5</td>\n",
       "      <td>False</td>\n",
       "      <td>1</td>\n",
       "    </tr>\n",
       "    <tr>\n",
       "      <th>...</th>\n",
       "      <td>...</td>\n",
       "      <td>...</td>\n",
       "      <td>...</td>\n",
       "      <td>...</td>\n",
       "      <td>...</td>\n",
       "      <td>...</td>\n",
       "      <td>...</td>\n",
       "    </tr>\n",
       "    <tr>\n",
       "      <th>36270</th>\n",
       "      <td>85</td>\n",
       "      <td>167.80</td>\n",
       "      <td>1</td>\n",
       "      <td>8.0</td>\n",
       "      <td>0.5</td>\n",
       "      <td>True</td>\n",
       "      <td>0</td>\n",
       "    </tr>\n",
       "    <tr>\n",
       "      <th>36271</th>\n",
       "      <td>228</td>\n",
       "      <td>90.95</td>\n",
       "      <td>2</td>\n",
       "      <td>10.0</td>\n",
       "      <td>0.5</td>\n",
       "      <td>True</td>\n",
       "      <td>1</td>\n",
       "    </tr>\n",
       "    <tr>\n",
       "      <th>36272</th>\n",
       "      <td>148</td>\n",
       "      <td>98.39</td>\n",
       "      <td>2</td>\n",
       "      <td>7.0</td>\n",
       "      <td>0.5</td>\n",
       "      <td>True</td>\n",
       "      <td>0</td>\n",
       "    </tr>\n",
       "    <tr>\n",
       "      <th>36273</th>\n",
       "      <td>63</td>\n",
       "      <td>94.50</td>\n",
       "      <td>0</td>\n",
       "      <td>4.0</td>\n",
       "      <td>0.5</td>\n",
       "      <td>True</td>\n",
       "      <td>1</td>\n",
       "    </tr>\n",
       "    <tr>\n",
       "      <th>36274</th>\n",
       "      <td>207</td>\n",
       "      <td>161.67</td>\n",
       "      <td>0</td>\n",
       "      <td>12.0</td>\n",
       "      <td>0.5</td>\n",
       "      <td>True</td>\n",
       "      <td>0</td>\n",
       "    </tr>\n",
       "  </tbody>\n",
       "</table>\n",
       "<p>36275 rows × 7 columns</p>\n",
       "</div>"
      ],
      "text/plain": [
       "       lead_time  avg_price_per_room  special_requests_no  month  \\\n",
       "0            224               65.00                    0   10.0   \n",
       "1              5              106.68                    1   11.0   \n",
       "2              1               60.00                    0    2.0   \n",
       "3            211              100.00                    0    5.0   \n",
       "4             48               94.50                    0    4.0   \n",
       "...          ...                 ...                  ...    ...   \n",
       "36270         85              167.80                    1    8.0   \n",
       "36271        228               90.95                    2   10.0   \n",
       "36272        148               98.39                    2    7.0   \n",
       "36273         63               94.50                    0    4.0   \n",
       "36274        207              161.67                    0   12.0   \n",
       "\n",
       "       prev_show_rate  long_trip  canceled  \n",
       "0                 0.5       True         0  \n",
       "1                 0.5       True         0  \n",
       "2                 0.5       True         1  \n",
       "3                 0.5      False         1  \n",
       "4                 0.5      False         1  \n",
       "...               ...        ...       ...  \n",
       "36270             0.5       True         0  \n",
       "36271             0.5       True         1  \n",
       "36272             0.5       True         0  \n",
       "36273             0.5       True         1  \n",
       "36274             0.5       True         0  \n",
       "\n",
       "[36275 rows x 7 columns]"
      ]
     },
     "execution_count": 3,
     "metadata": {},
     "output_type": "execute_result"
    }
   ],
   "source": [
    "df = pd.read_csv(\"Hotel_Reservations_finalclean.txt\")\n",
    "df_raw = pd.read_csv(\"Hotel Reservations.csv\")\n",
    "df[\"long_trip\"] = (df[\"weekend_nights_no\"] + df[\"weekday_nights_no\"]) > 2\n",
    "df_interest = df.filter([\"lead_time\", \"avg_price_per_room\", \"special_requests_no\", \"month\", \"prev_show_rate\", \"long_trip\" ,\"canceled\"])\n",
    "df_interest"
   ]
  },
  {
   "cell_type": "code",
   "execution_count": 4,
   "metadata": {},
   "outputs": [
    {
     "data": {
      "image/png": "[encoded data removed]",
      "text/plain": [
       "<Figure size 432x288 with 1 Axes>"
      ]
     },
     "metadata": {
      "needs_background": "light"
     },
     "output_type": "display_data"
    }
   ],
   "source": [
    "##The Special Request Variable\n",
    "df_interest_canceled = df[df[\"canceled\"] == 0]\n",
    "df_interest_commited = df[df[\"canceled\"] == 1]\n",
    "import matplotlib.pyplot as plt\n",
    "labels = ['Cancelled', 'Commit']\n",
    "plt.boxplot([df_interest_canceled[\"special_requests_no\"], df_interest_commited[\"special_requests_no\"]], labels=labels)\n",
    "#plt.ylim(0, 2)  # set the y-axis limits\n",
    "#plt.yticks([0, 1, 2, 3, 4, 5, 6, 7, 8], ['0', '0.25', '0.5', '0.75', '1', '1.25', '1.5', '1.75', '2'])\n",
    " \n",
    "plt.xlabel(\"Booking Status\")\n",
    "\n",
    "plt.title(\"Distributions of Special Requests by Cancellations and Commmitments\")\n",
    "plt.show()"
   ]
  },
  {
   "attachments": {},
   "cell_type": "markdown",
   "metadata": {},
   "source": [
    "Here, we can see that there is a noticable difference between the mean special requests between the customers who cancel and dont cancel. Furthermore, almost all of the outliers are the customers who cancel. Moreover, we can see that in general, customers never really make special_requests, but the ones who do are likely the ones who are most likely to cancel. \n",
    "One possible inference is that Customers who tend to ask for special requests are more likely to be picky and hence cancel at a moments notice"
   ]
  },
  {
   "cell_type": "code",
   "execution_count": 5,
   "metadata": {},
   "outputs": [
    {
     "data": {
      "image/png": "[encoded data removed]",
      "text/plain": [
       "<Figure size 432x288 with 1 Axes>"
      ]
     },
     "metadata": {
      "needs_background": "light"
     },
     "output_type": "display_data"
    }
   ],
   "source": [
    "#lead time\n",
    "labels = ['Cancelled', 'Commit']\n",
    "plt.boxplot([df_interest_canceled[\"lead_time\"], df_interest_commited[\"lead_time\"]], labels=labels)\n",
    "#plt.ylim(0, 2)  # set the y-axis limits\n",
    "#plt.yticks([0, 1, 2, 3, 4, 5, 6, 7, 8], ['0', '0.25', '0.5', '0.75', '1', '1.25', '1.5', '1.75', '2'])\n",
    " \n",
    "plt.xlabel(\"Booking Status\")\n",
    "\n",
    "plt.title(\"Distributions of Lead Time by Cancellations and Commmitments\")\n",
    "plt.show()"
   ]
  },
  {
   "cell_type": "markdown",
   "metadata": {},
   "source": []
  },
  {
   "cell_type": "code",
   "execution_count": 6,
   "metadata": {},
   "outputs": [
    {
     "data": {
      "image/png": "[encoded data removed]",
      "text/plain": [
       "<Figure size 432x288 with 1 Axes>"
      ]
     },
     "metadata": {
      "needs_background": "light"
     },
     "output_type": "display_data"
    }
   ],
   "source": [
    "labels = ['Cancelled', 'Commit']\n",
    "plt.boxplot([df_interest_canceled[\"avg_price_per_room\"], df_interest_commited[\"avg_price_per_room\"]], labels=labels)\n",
    "#plt.ylim(0, 2)  # set the y-axis limits\n",
    "#plt.yticks([0, 1, 2, 3, 4, 5, 6, 7, 8], ['0', '0.25', '0.5', '0.75', '1', '1.25', '1.5', '1.75', '2'])\n",
    " \n",
    "plt.xlabel(\"Booking Status\")\n",
    "\n",
    "plt.title(\"Distributions of Room price by Cancellations and Commmitments\")\n",
    "plt.show()"
   ]
  },
  {
   "attachments": {},
   "cell_type": "markdown",
   "metadata": {},
   "source": [
    "I need to justify this somehow. "
   ]
  },
  {
   "cell_type": "code",
   "execution_count": 7,
   "metadata": {},
   "outputs": [
    {
     "data": {
      "text/plain": [
       "<AxesSubplot:xlabel='canceled'>"
      ]
     },
     "execution_count": 7,
     "metadata": {},
     "output_type": "execute_result"
    },
    {
     "data": {
      "image/png": "[encoded data removed]",
      "text/plain": [
       "<Figure size 504x288 with 1 Axes>"
      ]
     },
     "metadata": {
      "needs_background": "light"
     },
     "output_type": "display_data"
    }
   ],
   "source": [
    "figure = pd.crosstab(index = df_interest[\"canceled\"], columns= df_interest[\"long_trip\"])\n",
    "figure.plot.bar(figsize = (7,4), rot = 0)"
   ]
  },
  {
   "cell_type": "markdown",
   "metadata": {},
   "source": []
  },
  {
   "cell_type": "code",
   "execution_count": 8,
   "metadata": {},
   "outputs": [
    {
     "data": {
      "text/plain": [
       "<AxesSubplot:xlabel='canceled', ylabel='prev_show_rate'>"
      ]
     },
     "execution_count": 8,
     "metadata": {},
     "output_type": "execute_result"
    },
    {
     "data": {
      "image/png": "[encoded data removed]",
      "text/plain": [
       "<Figure size 432x288 with 1 Axes>"
      ]
     },
     "metadata": {
      "needs_background": "light"
     },
     "output_type": "display_data"
    }
   ],
   "source": [
    "sb.violinplot(data = df_interest, x = \"canceled\", y = \"prev_show_rate\")"
   ]
  },
  {
   "attachments": {},
   "cell_type": "markdown",
   "metadata": {},
   "source": [
    "I need to justify this somehow"
   ]
  },
  {
   "cell_type": "code",
   "execution_count": 47,
   "metadata": {},
   "outputs": [
    {
     "name": "stdout",
     "output_type": "stream",
     "text": [
      "month     1.0   2.0   3.0   4.0   5.0   6.0   7.0   8.0   9.0   10.0  11.0  \\\n",
      "canceled                                                                     \n",
      "0          990  1244  1658  1741  1650  1912  1606  2325  3073  3437  2105   \n",
      "1           24   423   700   995   948  1291  1314  1488  1538  1880   875   \n",
      "\n",
      "month     12.0  \n",
      "canceled        \n",
      "0         2619  \n",
      "1          402  \n",
      "11878\n",
      "24360\n"
     ]
    },
    {
     "data": {
      "text/plain": [
       "<AxesSubplot:xlabel='canceled'>"
      ]
     },
     "execution_count": 47,
     "metadata": {},
     "output_type": "execute_result"
    },
    {
     "data": {
      "image/png": "[encoded data removed]",
      "text/plain": [
       "<Figure size 864x648 with 1 Axes>"
      ]
     },
     "metadata": {
      "needs_background": "light"
     },
     "output_type": "display_data"
    }
   ],
   "source": [
    "figure2 = pd.crosstab(index = df_interest[\"canceled\"], columns  = df_interest[\"month\"])\n",
    "canceled_total = 0\n",
    "commited_total = 0\n",
    "for i in range(1,13):\n",
    "    canceled_total += figure2[i][1]\n",
    "    commited_total += figure2[i][0]\n",
    "print(figure2)\n",
    "print(canceled_total)\n",
    "print(commited_total)\n",
    "for i in range(1,13):\n",
    "    figure2[i][1] = 100 * figure2[i][1]/canceled_total\n",
    "    figure2[i][0] = 100 * figure2[i][0]/commited_total\n",
    "\n",
    "\n",
    "figure2.plot.bar(figsize = (12,9), rot = 1, legend=(\"Jan\", \"Feb\", \"Mar\", \"Apr\", \"May\", \"June\", \"July\", \"Aug\", \"Sept\", \"Oct\", \"Nov\", \"Dec\"))"
   ]
  },
  {
   "attachments": {},
   "cell_type": "markdown",
   "metadata": {},
   "source": [
    "As seen in the figure, the time of year has a great infuence on whether a person will cancel their booking or not. One of the most oddest features in the dataset is that cancellations are nearly non-existent in the month of january. A similar result can be seen in the month of December. This could be due to the existence of the holiday season, as prices surge during that time and does not make sense for one to cancel their reservations. However, soon after janurary, the frequency of cancellations increase and this trend remains the same up until November; at which point it goes down by a fair margin.\n",
    "We can make a simple conclusion from this data, which is that customers are less likely to cancel their reservations during the holiday seasons. "
   ]
  },
  {
   "cell_type": "code",
   "execution_count": 48,
   "metadata": {},
   "outputs": [
    {
     "data": {
      "text/html": [
       "<div>\n",
       "<style scoped>\n",
       "    .dataframe tbody tr th:only-of-type {\n",
       "        vertical-align: middle;\n",
       "    }\n",
       "\n",
       "    .dataframe tbody tr th {\n",
       "        vertical-align: top;\n",
       "    }\n",
       "\n",
       "    .dataframe thead th {\n",
       "        text-align: right;\n",
       "    }\n",
       "</style>\n",
       "<table border=\"1\" class=\"dataframe\">\n",
       "  <thead>\n",
       "    <tr style=\"text-align: right;\">\n",
       "      <th></th>\n",
       "      <th>lead_time</th>\n",
       "      <th>avg_price_per_room</th>\n",
       "      <th>special_requests_no</th>\n",
       "      <th>month</th>\n",
       "      <th>prev_show_rate</th>\n",
       "      <th>long_trip</th>\n",
       "      <th>canceled</th>\n",
       "    </tr>\n",
       "  </thead>\n",
       "  <tbody>\n",
       "    <tr>\n",
       "      <th>0</th>\n",
       "      <td>224</td>\n",
       "      <td>65.00</td>\n",
       "      <td>0</td>\n",
       "      <td>10.0</td>\n",
       "      <td>0.5</td>\n",
       "      <td>True</td>\n",
       "      <td>0</td>\n",
       "    </tr>\n",
       "    <tr>\n",
       "      <th>1</th>\n",
       "      <td>5</td>\n",
       "      <td>106.68</td>\n",
       "      <td>1</td>\n",
       "      <td>11.0</td>\n",
       "      <td>0.5</td>\n",
       "      <td>True</td>\n",
       "      <td>0</td>\n",
       "    </tr>\n",
       "    <tr>\n",
       "      <th>2</th>\n",
       "      <td>1</td>\n",
       "      <td>60.00</td>\n",
       "      <td>0</td>\n",
       "      <td>2.0</td>\n",
       "      <td>0.5</td>\n",
       "      <td>True</td>\n",
       "      <td>1</td>\n",
       "    </tr>\n",
       "    <tr>\n",
       "      <th>3</th>\n",
       "      <td>211</td>\n",
       "      <td>100.00</td>\n",
       "      <td>0</td>\n",
       "      <td>5.0</td>\n",
       "      <td>0.5</td>\n",
       "      <td>False</td>\n",
       "      <td>1</td>\n",
       "    </tr>\n",
       "    <tr>\n",
       "      <th>4</th>\n",
       "      <td>48</td>\n",
       "      <td>94.50</td>\n",
       "      <td>0</td>\n",
       "      <td>4.0</td>\n",
       "      <td>0.5</td>\n",
       "      <td>False</td>\n",
       "      <td>1</td>\n",
       "    </tr>\n",
       "    <tr>\n",
       "      <th>...</th>\n",
       "      <td>...</td>\n",
       "      <td>...</td>\n",
       "      <td>...</td>\n",
       "      <td>...</td>\n",
       "      <td>...</td>\n",
       "      <td>...</td>\n",
       "      <td>...</td>\n",
       "    </tr>\n",
       "    <tr>\n",
       "      <th>36270</th>\n",
       "      <td>85</td>\n",
       "      <td>167.80</td>\n",
       "      <td>1</td>\n",
       "      <td>8.0</td>\n",
       "      <td>0.5</td>\n",
       "      <td>True</td>\n",
       "      <td>0</td>\n",
       "    </tr>\n",
       "    <tr>\n",
       "      <th>36271</th>\n",
       "      <td>228</td>\n",
       "      <td>90.95</td>\n",
       "      <td>2</td>\n",
       "      <td>10.0</td>\n",
       "      <td>0.5</td>\n",
       "      <td>True</td>\n",
       "      <td>1</td>\n",
       "    </tr>\n",
       "    <tr>\n",
       "      <th>36272</th>\n",
       "      <td>148</td>\n",
       "      <td>98.39</td>\n",
       "      <td>2</td>\n",
       "      <td>7.0</td>\n",
       "      <td>0.5</td>\n",
       "      <td>True</td>\n",
       "      <td>0</td>\n",
       "    </tr>\n",
       "    <tr>\n",
       "      <th>36273</th>\n",
       "      <td>63</td>\n",
       "      <td>94.50</td>\n",
       "      <td>0</td>\n",
       "      <td>4.0</td>\n",
       "      <td>0.5</td>\n",
       "      <td>True</td>\n",
       "      <td>1</td>\n",
       "    </tr>\n",
       "    <tr>\n",
       "      <th>36274</th>\n",
       "      <td>207</td>\n",
       "      <td>161.67</td>\n",
       "      <td>0</td>\n",
       "      <td>12.0</td>\n",
       "      <td>0.5</td>\n",
       "      <td>True</td>\n",
       "      <td>0</td>\n",
       "    </tr>\n",
       "  </tbody>\n",
       "</table>\n",
       "<p>36275 rows × 7 columns</p>\n",
       "</div>"
      ],
      "text/plain": [
       "       lead_time  avg_price_per_room  special_requests_no  month  \\\n",
       "0            224               65.00                    0   10.0   \n",
       "1              5              106.68                    1   11.0   \n",
       "2              1               60.00                    0    2.0   \n",
       "3            211              100.00                    0    5.0   \n",
       "4             48               94.50                    0    4.0   \n",
       "...          ...                 ...                  ...    ...   \n",
       "36270         85              167.80                    1    8.0   \n",
       "36271        228               90.95                    2   10.0   \n",
       "36272        148               98.39                    2    7.0   \n",
       "36273         63               94.50                    0    4.0   \n",
       "36274        207              161.67                    0   12.0   \n",
       "\n",
       "       prev_show_rate  long_trip  canceled  \n",
       "0                 0.5       True         0  \n",
       "1                 0.5       True         0  \n",
       "2                 0.5       True         1  \n",
       "3                 0.5      False         1  \n",
       "4                 0.5      False         1  \n",
       "...               ...        ...       ...  \n",
       "36270             0.5       True         0  \n",
       "36271             0.5       True         1  \n",
       "36272             0.5       True         0  \n",
       "36273             0.5       True         1  \n",
       "36274             0.5       True         0  \n",
       "\n",
       "[36275 rows x 7 columns]"
      ]
     },
     "execution_count": 48,
     "metadata": {},
     "output_type": "execute_result"
    }
   ],
   "source": [
    "df_interest"
   ]
  }
 ],
 "metadata": {
  "kernelspec": {
   "display_name": "Python 3",
   "language": "python",
   "name": "python3"
  },
  "language_info": {
   "codemirror_mode": {
    "name": "ipython",
    "version": 3
   },
   "file_extension": ".py",
   "mimetype": "text/x-python",
   "name": "python",
   "nbconvert_exporter": "python",
   "pygments_lexer": "ipython3",
   "version": "3.9.13"
  },
  "orig_nbformat": 4,
  "vscode": {
   "interpreter": {
    "hash": "8e284ee3255a07ad8bf76694974743c4c81cb57e7c969474d752d949b11d721e"
   }
  }
 },
 "nbformat": 4,
 "nbformat_minor": 2
}
